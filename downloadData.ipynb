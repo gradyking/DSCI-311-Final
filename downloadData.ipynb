{
 "cells": [
  {
   "cell_type": "markdown",
   "id": "7d0cbdca-49a5-4694-90ec-1c02d794698a",
   "metadata": {},
   "source": [
    "# Download CMAQ gridded-comparison"
   ]
  },
  {
   "cell_type": "code",
   "execution_count": 1,
   "id": "fb5e8a30-e3c8-422a-ba29-7373d4f0e828",
   "metadata": {},
   "outputs": [],
   "source": [
    "import requests\n",
    "import os\n",
    "import time\n",
    "from tqdm import tqdm\n",
    "import numpy as np\n",
    "import pandas as pd\n",
    "import geopandas as gpd\n",
    "import matplotlib.pyplot as plt\n",
    "import gc"
   ]
  },
  {
   "cell_type": "code",
   "execution_count": 7,
   "id": "98cf35ec-454a-487b-8b29-ce49d5090a06",
   "metadata": {},
   "outputs": [
    {
     "name": "stdout",
     "output_type": "stream",
     "text": [
      "2010\n",
      "2011\n",
      "2012\n",
      "2013\n",
      "2014\n",
      "2015\n",
      "2016\n",
      "2017\n",
      "2018\n",
      "2019\n",
      "2020\n",
      "2021\n"
     ]
    }
   ],
   "source": [
    "# programatically download CMAQ PM2.5 gridded estimates\n",
    "# https://www.epa.gov/hesc/rsig-related-downloadable-data-files\n",
    "years = list(range(2010,2021+1))\n",
    "if not os.path.exists(\"CMAQ\"):\n",
    "    os.mkdir(\"CMAQ\")\n",
    "for year in years:\n",
    "    print(year)\n",
    "    if not os.path.exists(f\"CMAQ/ds_input_cmaq_pm25_{year}.zip\"):\n",
    "        url = f\"https://ofmpub.epa.gov/rsig/rsigserver?data/FAQSD/inputs/ds_input_cmaq_pm25_{year}.zip\"\n",
    "        response = requests.get(url, stream=True)\n",
    "        with open(f\"CMAQ/ds_input_cmaq_pm25_{year}.zip\", mode=\"wb\") as file:\n",
    "            for chunk in response.iter_content(chunk_size=10 * 1024):\n",
    "                file.write(chunk)\n",
    "        time.sleep(2)\n",
    "    "
   ]
  },
  {
   "cell_type": "markdown",
   "id": "7faf394e-292c-4bdf-87e0-031b1fe021b8",
   "metadata": {},
   "source": [
    "Different CMAQ years have different numbers of squares:\n",
    "- 2010: 459x299\n",
    "- 2011: 396x246\n",
    "- 2012: 396x246\n",
    "- 2013: 459x299\n",
    "- 2014: 459x299\n",
    "- 2015: 396x246\n",
    "- 2016: 396x246\n",
    "- 2017: 396x246\n",
    "- 2018: 459x299\n",
    "- 2019: 459x299\n",
    "- 2020: 459x299\n",
    "- 2021: 459x299\n",
    "\n",
    "This is complete madness and I don't know why they would ever do this, but I'll read in 2011 first, save the list of long/lat pairs, then filter all of the 459x299 years by that list to make them 396x246."
   ]
  },
  {
   "cell_type": "code",
   "execution_count": 2,
   "id": "2992cd83-9328-4940-84e5-7bfc84d099d1",
   "metadata": {},
   "outputs": [],
   "source": [
    "# extract the long/lat pairs for the 396x246 points\n",
    "if not os.path.exists('CMAQ/squareCoords396x246.csv'):\n",
    "    cmaq2011 = pd.read_csv(\"CMAQ/ds_input_cmaq_pm25_2011.zip\")\n",
    "    cmaq2011.drop_duplicates((\"Lon\", \"Lat\"))[[\"Lon\", \"Lat\"]].to_csv('CMAQ/squareCoords396x246.csv', index=False)\n",
    "    del cmaq2011\n",
    "    gc.collect()  # Forces a garbage collection cycle\n",
    "\n",
    "squareCoords396x246 = pd.read_csv('CMAQ/squareCoords396x246.csv')\n",
    "\n",
    "# make lon lat coord_key to compare against for filtering\n",
    "squareCoords396x246['coord_key'] = squareCoords396x246['Lon'].round(5).astype(str) + '_' + squareCoords396x246['Lat'].round(5).astype(str)\n",
    "coord_keys_set = set(squareCoords396x246['coord_key'])"
   ]
  },
  {
   "cell_type": "code",
   "execution_count": 3,
   "id": "2ed283a1-58f2-46d0-b8f7-9679dc07737d",
   "metadata": {},
   "outputs": [
    {
     "data": {
      "text/plain": [
       "array([[   1,    1,    1, ...,   49,   49,   50],\n",
       "       [   1,    1,    1, ...,   49,   49,   50],\n",
       "       [   1,    1,    1, ...,   49,   49,   50],\n",
       "       ...,\n",
       "       [3901, 3901, 3901, ..., 3949, 3949, 3950],\n",
       "       [3901, 3901, 3901, ..., 3949, 3949, 3950],\n",
       "       [3951, 3951, 3951, ..., 3999, 3999, 4000]])"
      ]
     },
     "metadata": {},
     "output_type": "display_data"
    }
   ],
   "source": [
    "# make grouping matrix for CMAQ, 396 x 246 grid -> 80 x 50 (group squares 5x5, with 5x4 and 4x5 rects at the ends)\n",
    "rows, cols = 396, 246\n",
    "side_length = 5\n",
    "\n",
    "group_matrix = np.zeros((rows, cols), dtype=int)\n",
    "\n",
    "group_id = 1\n",
    "for i in range(0, rows, side_length):\n",
    "    for j in range(0, cols, side_length):\n",
    "        group_matrix[i:i+side_length, j:j+side_length] = group_id\n",
    "        group_id += 1\n",
    "\n",
    "display(group_matrix)\n",
    "flatGroup = group_matrix.flatten()\n",
    "flatGroup.shape\n",
    "del group_matrix"
   ]
  },
  {
   "cell_type": "code",
   "execution_count": 4,
   "id": "abf5c10b-b89e-42cf-960e-a850e0484032",
   "metadata": {},
   "outputs": [],
   "source": [
    "# Convert DataFrames to GeoDataFrames\n",
    "def to_gdf(df, lat_col='latitude', lon_col='longitude'):\n",
    "    return gpd.GeoDataFrame(df, geometry=gpd.points_from_xy(df[lon_col], df[lat_col]), crs=\"EPSG:4326\")\n",
    "\n",
    "# taken from https://ofmpub.epa.gov/rsig/rsigserver?data/FAQSD/docs/2020_DS_Annual_Report.pdf\n",
    "# Lambert Conformal Projection with true latitudes at 33 and 45 N, coordinate center 97 W, 40 N, converted by ChatGPT to CRS string\n",
    "cmaqCRS = (\n",
    "    \"+proj=lcc \"\n",
    "    \"+lat_1=33 +lat_2=45 \"        # standard parallels\n",
    "    \"+lat_0=40 \"                  # latitude of origin\n",
    "    \"+lon_0=-97 \"                 # central meridian\n",
    "    \"+x_0=0 +y_0=0 \"              # false easting/northing\n",
    "    \"+datum=WGS84 +units=m +no_defs\"\n",
    ")"
   ]
  },
  {
   "cell_type": "code",
   "execution_count": 10,
   "id": "0eabcf30-c527-4093-80d3-6ab49bda20a7",
   "metadata": {},
   "outputs": [
    {
     "name": "stdout",
     "output_type": "stream",
     "text": [
      "2011\n",
      "reading CMAQ\n",
      "done reading\n"
     ]
    },
    {
     "data": {
      "text/plain": [
       "(35556840, 4)"
      ]
     },
     "metadata": {},
     "output_type": "display_data"
    },
    {
     "data": {
      "text/plain": [
       "Index(['Lon', 'Lat', 'Date', 'Conc'], dtype='object')"
      ]
     },
     "metadata": {},
     "output_type": "display_data"
    },
    {
     "name": "stderr",
     "output_type": "stream",
     "text": [
      "/tmp/ipykernel_99325/2814230464.py:44: FutureWarning: The default of observed=False is deprecated and will be changed to True in a future version of pandas. Pass observed=False to retain current behavior or observed=True to adopt the future default and silence this warning.\n",
      "  cmaqSummarized = cmaq.groupby(['group', 'Date'], as_index=False).mean()\n"
     ]
    },
    {
     "name": "stdout",
     "output_type": "stream",
     "text": [
      "saving\n",
      "2012\n",
      "reading CMAQ\n",
      "done reading\n"
     ]
    },
    {
     "data": {
      "text/plain": [
       "(35654256, 4)"
      ]
     },
     "metadata": {},
     "output_type": "display_data"
    },
    {
     "data": {
      "text/plain": [
       "Index(['Lon', 'Lat', 'Date', 'Conc'], dtype='object')"
      ]
     },
     "metadata": {},
     "output_type": "display_data"
    },
    {
     "name": "stderr",
     "output_type": "stream",
     "text": [
      "/tmp/ipykernel_99325/2814230464.py:44: FutureWarning: The default of observed=False is deprecated and will be changed to True in a future version of pandas. Pass observed=False to retain current behavior or observed=True to adopt the future default and silence this warning.\n",
      "  cmaqSummarized = cmaq.groupby(['group', 'Date'], as_index=False).mean()\n"
     ]
    },
    {
     "name": "stdout",
     "output_type": "stream",
     "text": [
      "saving\n",
      "2013\n",
      "reading CMAQ\n"
     ]
    },
    {
     "name": "stderr",
     "output_type": "stream",
     "text": [
      "100%|█████████████████████████████████████████████████████████████████████████████████| 101/101 [01:40<00:00,  1.00it/s]\n"
     ]
    },
    {
     "name": "stdout",
     "output_type": "stream",
     "text": [
      "done reading\n"
     ]
    },
    {
     "data": {
      "text/plain": [
       "(35556840, 4)"
      ]
     },
     "metadata": {},
     "output_type": "display_data"
    },
    {
     "data": {
      "text/plain": [
       "Index(['Lon', 'Lat', 'Date', 'Conc'], dtype='object')"
      ]
     },
     "metadata": {},
     "output_type": "display_data"
    },
    {
     "name": "stderr",
     "output_type": "stream",
     "text": [
      "/tmp/ipykernel_99325/2814230464.py:44: FutureWarning: The default of observed=False is deprecated and will be changed to True in a future version of pandas. Pass observed=False to retain current behavior or observed=True to adopt the future default and silence this warning.\n",
      "  cmaqSummarized = cmaq.groupby(['group', 'Date'], as_index=False).mean()\n"
     ]
    },
    {
     "name": "stdout",
     "output_type": "stream",
     "text": [
      "saving\n",
      "2014\n",
      "reading CMAQ\n"
     ]
    },
    {
     "name": "stderr",
     "output_type": "stream",
     "text": [
      "100%|█████████████████████████████████████████████████████████████████████████████████| 101/101 [01:42<00:00,  1.02s/it]\n"
     ]
    },
    {
     "name": "stdout",
     "output_type": "stream",
     "text": [
      "done reading\n"
     ]
    },
    {
     "data": {
      "text/plain": [
       "(35556840, 4)"
      ]
     },
     "metadata": {},
     "output_type": "display_data"
    },
    {
     "data": {
      "text/plain": [
       "Index(['Lon', 'Lat', 'Date', 'Conc'], dtype='object')"
      ]
     },
     "metadata": {},
     "output_type": "display_data"
    },
    {
     "name": "stderr",
     "output_type": "stream",
     "text": [
      "/tmp/ipykernel_99325/2814230464.py:44: FutureWarning: The default of observed=False is deprecated and will be changed to True in a future version of pandas. Pass observed=False to retain current behavior or observed=True to adopt the future default and silence this warning.\n",
      "  cmaqSummarized = cmaq.groupby(['group', 'Date'], as_index=False).mean()\n"
     ]
    },
    {
     "name": "stdout",
     "output_type": "stream",
     "text": [
      "saving\n",
      "2015\n",
      "reading CMAQ\n",
      "done reading\n"
     ]
    },
    {
     "data": {
      "text/plain": [
       "(35556840, 4)"
      ]
     },
     "metadata": {},
     "output_type": "display_data"
    },
    {
     "data": {
      "text/plain": [
       "Index(['Lon', 'Lat', 'Date', 'Conc'], dtype='object')"
      ]
     },
     "metadata": {},
     "output_type": "display_data"
    },
    {
     "name": "stderr",
     "output_type": "stream",
     "text": [
      "/tmp/ipykernel_99325/2814230464.py:44: FutureWarning: The default of observed=False is deprecated and will be changed to True in a future version of pandas. Pass observed=False to retain current behavior or observed=True to adopt the future default and silence this warning.\n",
      "  cmaqSummarized = cmaq.groupby(['group', 'Date'], as_index=False).mean()\n"
     ]
    },
    {
     "name": "stdout",
     "output_type": "stream",
     "text": [
      "saving\n",
      "2016\n",
      "reading CMAQ\n",
      "done reading\n"
     ]
    },
    {
     "data": {
      "text/plain": [
       "(35654256, 4)"
      ]
     },
     "metadata": {},
     "output_type": "display_data"
    },
    {
     "data": {
      "text/plain": [
       "Index(['Lon', 'Lat', 'Date', 'Conc'], dtype='object')"
      ]
     },
     "metadata": {},
     "output_type": "display_data"
    },
    {
     "name": "stderr",
     "output_type": "stream",
     "text": [
      "/tmp/ipykernel_99325/2814230464.py:44: FutureWarning: The default of observed=False is deprecated and will be changed to True in a future version of pandas. Pass observed=False to retain current behavior or observed=True to adopt the future default and silence this warning.\n",
      "  cmaqSummarized = cmaq.groupby(['group', 'Date'], as_index=False).mean()\n"
     ]
    },
    {
     "name": "stdout",
     "output_type": "stream",
     "text": [
      "saving\n",
      "2017\n",
      "reading CMAQ\n",
      "done reading\n"
     ]
    },
    {
     "data": {
      "text/plain": [
       "(35556840, 4)"
      ]
     },
     "metadata": {},
     "output_type": "display_data"
    },
    {
     "data": {
      "text/plain": [
       "Index(['Lon', 'Lat', 'Date', 'Conc'], dtype='object')"
      ]
     },
     "metadata": {},
     "output_type": "display_data"
    },
    {
     "name": "stderr",
     "output_type": "stream",
     "text": [
      "/tmp/ipykernel_99325/2814230464.py:44: FutureWarning: The default of observed=False is deprecated and will be changed to True in a future version of pandas. Pass observed=False to retain current behavior or observed=True to adopt the future default and silence this warning.\n",
      "  cmaqSummarized = cmaq.groupby(['group', 'Date'], as_index=False).mean()\n"
     ]
    },
    {
     "name": "stdout",
     "output_type": "stream",
     "text": [
      "saving\n",
      "2018\n",
      "reading CMAQ\n"
     ]
    },
    {
     "name": "stderr",
     "output_type": "stream",
     "text": [
      "100%|█████████████████████████████████████████████████████████████████████████████████| 101/101 [01:39<00:00,  1.01it/s]\n"
     ]
    },
    {
     "name": "stdout",
     "output_type": "stream",
     "text": [
      "done reading\n"
     ]
    },
    {
     "data": {
      "text/plain": [
       "(35556840, 4)"
      ]
     },
     "metadata": {},
     "output_type": "display_data"
    },
    {
     "data": {
      "text/plain": [
       "Index(['Lon', 'Lat', 'Date', 'Conc'], dtype='object')"
      ]
     },
     "metadata": {},
     "output_type": "display_data"
    },
    {
     "name": "stderr",
     "output_type": "stream",
     "text": [
      "/tmp/ipykernel_99325/2814230464.py:44: FutureWarning: The default of observed=False is deprecated and will be changed to True in a future version of pandas. Pass observed=False to retain current behavior or observed=True to adopt the future default and silence this warning.\n",
      "  cmaqSummarized = cmaq.groupby(['group', 'Date'], as_index=False).mean()\n"
     ]
    },
    {
     "name": "stdout",
     "output_type": "stream",
     "text": [
      "saving\n",
      "2019\n",
      "reading CMAQ\n"
     ]
    },
    {
     "name": "stderr",
     "output_type": "stream",
     "text": [
      "100%|█████████████████████████████████████████████████████████████████████████████████| 101/101 [01:39<00:00,  1.01it/s]\n"
     ]
    },
    {
     "name": "stdout",
     "output_type": "stream",
     "text": [
      "done reading\n"
     ]
    },
    {
     "data": {
      "text/plain": [
       "(35556840, 4)"
      ]
     },
     "metadata": {},
     "output_type": "display_data"
    },
    {
     "data": {
      "text/plain": [
       "Index(['Lon', 'Lat', 'Date', 'Conc'], dtype='object')"
      ]
     },
     "metadata": {},
     "output_type": "display_data"
    },
    {
     "name": "stderr",
     "output_type": "stream",
     "text": [
      "/tmp/ipykernel_99325/2814230464.py:44: FutureWarning: The default of observed=False is deprecated and will be changed to True in a future version of pandas. Pass observed=False to retain current behavior or observed=True to adopt the future default and silence this warning.\n",
      "  cmaqSummarized = cmaq.groupby(['group', 'Date'], as_index=False).mean()\n"
     ]
    },
    {
     "name": "stdout",
     "output_type": "stream",
     "text": [
      "saving\n",
      "2020\n",
      "reading CMAQ\n"
     ]
    },
    {
     "name": "stderr",
     "output_type": "stream",
     "text": [
      "100%|█████████████████████████████████████████████████████████████████████████████████| 101/101 [01:39<00:00,  1.01it/s]\n"
     ]
    },
    {
     "name": "stdout",
     "output_type": "stream",
     "text": [
      "done reading\n"
     ]
    },
    {
     "data": {
      "text/plain": [
       "(35654256, 4)"
      ]
     },
     "metadata": {},
     "output_type": "display_data"
    },
    {
     "data": {
      "text/plain": [
       "Index(['Lon', 'Lat', 'Date', 'Conc'], dtype='object')"
      ]
     },
     "metadata": {},
     "output_type": "display_data"
    },
    {
     "name": "stderr",
     "output_type": "stream",
     "text": [
      "/tmp/ipykernel_99325/2814230464.py:44: FutureWarning: The default of observed=False is deprecated and will be changed to True in a future version of pandas. Pass observed=False to retain current behavior or observed=True to adopt the future default and silence this warning.\n",
      "  cmaqSummarized = cmaq.groupby(['group', 'Date'], as_index=False).mean()\n"
     ]
    },
    {
     "name": "stdout",
     "output_type": "stream",
     "text": [
      "saving\n",
      "2021\n",
      "reading CMAQ\n"
     ]
    },
    {
     "name": "stderr",
     "output_type": "stream",
     "text": [
      "100%|█████████████████████████████████████████████████████████████████████████████████| 101/101 [01:39<00:00,  1.01it/s]\n"
     ]
    },
    {
     "name": "stdout",
     "output_type": "stream",
     "text": [
      "done reading\n"
     ]
    },
    {
     "data": {
      "text/plain": [
       "(35556840, 4)"
      ]
     },
     "metadata": {},
     "output_type": "display_data"
    },
    {
     "data": {
      "text/plain": [
       "Index(['Lon', 'Lat', 'Date', 'Conc'], dtype='object')"
      ]
     },
     "metadata": {},
     "output_type": "display_data"
    },
    {
     "name": "stderr",
     "output_type": "stream",
     "text": [
      "/tmp/ipykernel_99325/2814230464.py:44: FutureWarning: The default of observed=False is deprecated and will be changed to True in a future version of pandas. Pass observed=False to retain current behavior or observed=True to adopt the future default and silence this warning.\n",
      "  cmaqSummarized = cmaq.groupby(['group', 'Date'], as_index=False).mean()\n"
     ]
    },
    {
     "name": "stdout",
     "output_type": "stream",
     "text": [
      "saving\n"
     ]
    }
   ],
   "source": [
    "for year in range(2010, 2021+1):\n",
    "    # go to next loop iteration if data has already been made\n",
    "    if os.path.exists(f\"CMAQ/summarized/{year}_CMAQ_5x5.csv.gz\"):\n",
    "        continue \n",
    "    \n",
    "    print(year)\n",
    "    \n",
    "    print(\"reading CMAQ\")\n",
    "    # convert 459x299 years into 396x246\n",
    "    if year in (2010, 2013, 2014, 2018, 2019, 2020, 2021):\n",
    "        reader = pd.read_csv(f\"CMAQ/ds_input_cmaq_pm25_{year}.zip\", \n",
    "                     chunksize=500_000, \n",
    "                     usecols=['Lon', 'Lat', 'Date', 'Conc'], \n",
    "                     dtype = {'Date': 'category'})\n",
    "        \n",
    "        result_chunks = []\n",
    "        # 101-ish chunks, not exact\n",
    "        for chunk in tqdm(reader, total = 101):\n",
    "            chunk['coord_key'] = chunk['Lon'].round(5).astype(str) + '_' + chunk['Lat'].round(5).astype(str)\n",
    "            filtered = chunk[chunk['coord_key'].isin(coord_keys_set)]\n",
    "            result_chunks.append(filtered)\n",
    "    \n",
    "        # concat lists together, drop coord_key\n",
    "        cmaq = pd.concat(result_chunks, ignore_index=True).drop('coord_key', axis=1)\n",
    "        del result_chunks\n",
    "        gc.collect()  # Forces a garbage collection cycle\n",
    "    else:\n",
    "        cmaq = pd.read_csv(f\"CMAQ/ds_input_cmaq_pm25_{year}.zip\",\n",
    "                           usecols=['Lon', 'Lat', 'Date', 'Conc'], \n",
    "                           dtype = {'Date': 'category'})\n",
    "    \n",
    "    print('done reading')\n",
    "    # now, we have 396 x 246 table\n",
    "    \n",
    "    display(cmaq.shape)\n",
    "    display(cmaq.columns)\n",
    "\n",
    "    # duplicate groups for number of unique dates\n",
    "    groupCol = np.tile(flatGroup,len(cmaq[\"Date\"].unique()))\n",
    "    \n",
    "    # add 5x5 groups to cmaq, convert to category\n",
    "    cmaq['group'] = groupCol\n",
    "    cmaq['group'] = cmaq['group'].astype('category')\n",
    "\n",
    "    # summarize the conc for each group with the mean of all points within the group\n",
    "    cmaqSummarized = cmaq.groupby(['group', 'Date'], as_index=False).mean()\n",
    "    del cmaq\n",
    "    gc.collect()  # Forces a garbage collection cycle\n",
    "    \n",
    "    # project points to the CMAQ grid specified in the documentation\n",
    "    cmaqSummarizedgeo = to_gdf(cmaqSummarized, 'Lat', 'Lon').to_crs(cmaqCRS)\n",
    "    del cmaqSummarized\n",
    "    gc.collect()  # Forces a garbage collection cycle\n",
    "\n",
    "    # make the square polygons\n",
    "    voronoi = cmaqSummarizedgeo.voronoi_polygons()\n",
    "\n",
    "    # create mask for clipping the voronoi, since the voronoi makes weird polygons near the edges\n",
    "    # this just makes a convex hull that contains all of the points, then extends it slightly with a buffer\n",
    "    mask = cmaqSummarizedgeo.drop_duplicates(('Lat', 'Lon')).union_all().convex_hull.buffer(0.05e6)\n",
    "    mask\n",
    "    \n",
    "    if not os.path.exists('CMAQ/summarized'):\n",
    "        os.mkdir('CMAQ/summarized')\n",
    "    \n",
    "    print('saving')\n",
    "    # remove gross edges from voronoi\n",
    "    voronoiMask = voronoi.intersection(mask)\n",
    "    voronoiMask.to_file(f'CMAQ/summarized/{year}_CMAQ_5x5_squares.shp', index=False)  \n",
    "\n",
    "    # add the cmaq data back into the voronoi using intersection between the cmaq point and the voronoi shapes\n",
    "    cmaqFinal = gpd.sjoin(cmaqSummarizedgeo, gpd.GeoDataFrame(geometry=voronoi), how = 'left')\n",
    "    cmaqFinal.to_csv(f\"CMAQ/summarized/{year}_CMAQ_5x5.csv.gz\")\n",
    "\n",
    "    # clean up memory\n",
    "    del cmaqSummarizedgeo\n",
    "    del voronoiMask\n",
    "    del cmaqFinal\n",
    "    del mask\n",
    "    del voronoi\n",
    "    gc.collect()  # Forces a garbage collection cycle"
   ]
  },
  {
   "cell_type": "markdown",
   "id": "b61aacf2-d72a-4fdf-bd37-f1eef5360706",
   "metadata": {
    "scrolled": true
   },
   "source": [
    "### Find weather station PM2.5 measurements"
   ]
  },
  {
   "cell_type": "code",
   "execution_count": 89,
   "id": "044a3210-17fb-4b10-8263-a140c2e11536",
   "metadata": {},
   "outputs": [
    {
     "name": "stdout",
     "output_type": "stream",
     "text": [
      "2010\n",
      "2011\n",
      "2012\n",
      "2013\n",
      "2014\n",
      "2015\n",
      "2016\n",
      "2017\n",
      "2018\n",
      "2019\n",
      "2020\n",
      "2021\n"
     ]
    }
   ],
   "source": [
    "# programatically download both federally-regulated and non-federally-regulated daily PM2.5 information\n",
    "# https://aqs.epa.gov/aqsweb/airdata/download_files.html#Raw\n",
    "years = list(range(2010,2021+1))\n",
    "if not os.path.exists(\"PM2.5\"):\n",
    "    os.mkdir(\"PM2.5\")\n",
    "for year in years:\n",
    "    print(year)\n",
    "    if not os.path.exists(f\"PM2.5/daily_88101_{year}.zip\"):\n",
    "        url = f\"https://aqs.epa.gov/aqsweb/airdata/daily_88101_{year}.zip\"\n",
    "        response = requests.get(url, stream=True)\n",
    "        with open(f\"PM2.5/daily_88101_{year}.zip\", mode=\"wb\") as file:\n",
    "            for chunk in response.iter_content(chunk_size=10 * 1024):\n",
    "                file.write(chunk)\n",
    "\n",
    "    if not os.path.exists(f\"PM2.5/daily_88502_{year}.zip\"):\n",
    "        url = f\"https://aqs.epa.gov/aqsweb/airdata/daily_88502_{year}.zip\"\n",
    "        response = requests.get(url, stream=True)\n",
    "        with open(f\"PM2.5/daily_88502_{year}.zip\", mode=\"wb\") as file:\n",
    "            for chunk in response.iter_content(chunk_size=10 * 1024):\n",
    "                file.write(chunk)\n",
    "        time.sleep(2)\n",
    "    "
   ]
  },
  {
   "cell_type": "code",
   "execution_count": 2,
   "id": "238fedfb-fc41-4720-aba0-44b69eeb8521",
   "metadata": {
    "scrolled": true
   },
   "outputs": [
    {
     "data": {
      "text/html": [
       "<div>\n",
       "<style scoped>\n",
       "    .dataframe tbody tr th:only-of-type {\n",
       "        vertical-align: middle;\n",
       "    }\n",
       "\n",
       "    .dataframe tbody tr th {\n",
       "        vertical-align: top;\n",
       "    }\n",
       "\n",
       "    .dataframe thead th {\n",
       "        text-align: right;\n",
       "    }\n",
       "</style>\n",
       "<table border=\"1\" class=\"dataframe\">\n",
       "  <thead>\n",
       "    <tr style=\"text-align: right;\">\n",
       "      <th></th>\n",
       "      <th>State Code</th>\n",
       "      <th>County Code</th>\n",
       "      <th>Site Num</th>\n",
       "      <th>Parameter Code</th>\n",
       "      <th>POC</th>\n",
       "      <th>Latitude</th>\n",
       "      <th>Longitude</th>\n",
       "      <th>Observation Count</th>\n",
       "      <th>Observation Percent</th>\n",
       "      <th>Arithmetic Mean</th>\n",
       "      <th>1st Max Value</th>\n",
       "      <th>1st Max Hour</th>\n",
       "      <th>AQI</th>\n",
       "      <th>Method Code</th>\n",
       "    </tr>\n",
       "  </thead>\n",
       "  <tbody>\n",
       "    <tr>\n",
       "      <th>count</th>\n",
       "      <td>230028.000000</td>\n",
       "      <td>230028.000000</td>\n",
       "      <td>230028.000000</td>\n",
       "      <td>230028.0</td>\n",
       "      <td>230028.000000</td>\n",
       "      <td>230028.000000</td>\n",
       "      <td>230028.000000</td>\n",
       "      <td>230028.000000</td>\n",
       "      <td>230028.000000</td>\n",
       "      <td>230028.000000</td>\n",
       "      <td>230028.000000</td>\n",
       "      <td>230028.000000</td>\n",
       "      <td>179303.000000</td>\n",
       "      <td>230028.000000</td>\n",
       "    </tr>\n",
       "    <tr>\n",
       "      <th>mean</th>\n",
       "      <td>25.730224</td>\n",
       "      <td>74.355939</td>\n",
       "      <td>678.073887</td>\n",
       "      <td>88101.0</td>\n",
       "      <td>1.858722</td>\n",
       "      <td>38.567237</td>\n",
       "      <td>-96.375154</td>\n",
       "      <td>5.911054</td>\n",
       "      <td>99.943316</td>\n",
       "      <td>10.020274</td>\n",
       "      <td>12.239993</td>\n",
       "      <td>2.570239</td>\n",
       "      <td>45.534603</td>\n",
       "      <td>147.721843</td>\n",
       "    </tr>\n",
       "    <tr>\n",
       "      <th>std</th>\n",
       "      <td>16.174648</td>\n",
       "      <td>87.860608</td>\n",
       "      <td>1552.397756</td>\n",
       "      <td>0.0</td>\n",
       "      <td>1.014308</td>\n",
       "      <td>6.455165</td>\n",
       "      <td>20.827498</td>\n",
       "      <td>9.313001</td>\n",
       "      <td>12.734653</td>\n",
       "      <td>6.677099</td>\n",
       "      <td>11.019930</td>\n",
       "      <td>5.982236</td>\n",
       "      <td>19.544733</td>\n",
       "      <td>23.996032</td>\n",
       "    </tr>\n",
       "    <tr>\n",
       "      <th>min</th>\n",
       "      <td>1.000000</td>\n",
       "      <td>1.000000</td>\n",
       "      <td>1.000000</td>\n",
       "      <td>88101.0</td>\n",
       "      <td>1.000000</td>\n",
       "      <td>17.712474</td>\n",
       "      <td>-158.088613</td>\n",
       "      <td>1.000000</td>\n",
       "      <td>4.000000</td>\n",
       "      <td>-5.000000</td>\n",
       "      <td>-4.300000</td>\n",
       "      <td>0.000000</td>\n",
       "      <td>0.000000</td>\n",
       "      <td>116.000000</td>\n",
       "    </tr>\n",
       "    <tr>\n",
       "      <th>25%</th>\n",
       "      <td>12.000000</td>\n",
       "      <td>21.000000</td>\n",
       "      <td>6.000000</td>\n",
       "      <td>88101.0</td>\n",
       "      <td>1.000000</td>\n",
       "      <td>35.356615</td>\n",
       "      <td>-112.118210</td>\n",
       "      <td>1.000000</td>\n",
       "      <td>100.000000</td>\n",
       "      <td>5.375000</td>\n",
       "      <td>6.000000</td>\n",
       "      <td>0.000000</td>\n",
       "      <td>31.000000</td>\n",
       "      <td>118.000000</td>\n",
       "    </tr>\n",
       "    <tr>\n",
       "      <th>50%</th>\n",
       "      <td>24.000000</td>\n",
       "      <td>57.000000</td>\n",
       "      <td>19.000000</td>\n",
       "      <td>88101.0</td>\n",
       "      <td>1.000000</td>\n",
       "      <td>39.551300</td>\n",
       "      <td>-87.913504</td>\n",
       "      <td>1.000000</td>\n",
       "      <td>100.000000</td>\n",
       "      <td>8.500000</td>\n",
       "      <td>9.700000</td>\n",
       "      <td>0.000000</td>\n",
       "      <td>47.000000</td>\n",
       "      <td>145.000000</td>\n",
       "    </tr>\n",
       "    <tr>\n",
       "      <th>75%</th>\n",
       "      <td>40.000000</td>\n",
       "      <td>99.000000</td>\n",
       "      <td>1001.000000</td>\n",
       "      <td>88101.0</td>\n",
       "      <td>3.000000</td>\n",
       "      <td>41.707570</td>\n",
       "      <td>-80.580717</td>\n",
       "      <td>1.000000</td>\n",
       "      <td>100.000000</td>\n",
       "      <td>13.100000</td>\n",
       "      <td>15.500000</td>\n",
       "      <td>0.000000</td>\n",
       "      <td>58.000000</td>\n",
       "      <td>170.000000</td>\n",
       "    </tr>\n",
       "    <tr>\n",
       "      <th>max</th>\n",
       "      <td>78.000000</td>\n",
       "      <td>810.000000</td>\n",
       "      <td>9997.000000</td>\n",
       "      <td>88101.0</td>\n",
       "      <td>9.000000</td>\n",
       "      <td>64.845690</td>\n",
       "      <td>-64.784868</td>\n",
       "      <td>24.000000</td>\n",
       "      <td>400.000000</td>\n",
       "      <td>195.000000</td>\n",
       "      <td>886.500000</td>\n",
       "      <td>23.000000</td>\n",
       "      <td>270.000000</td>\n",
       "      <td>236.000000</td>\n",
       "    </tr>\n",
       "  </tbody>\n",
       "</table>\n",
       "</div>"
      ],
      "text/plain": [
       "          State Code    County Code       Site Num  Parameter Code  \\\n",
       "count  230028.000000  230028.000000  230028.000000        230028.0   \n",
       "mean       25.730224      74.355939     678.073887         88101.0   \n",
       "std        16.174648      87.860608    1552.397756             0.0   \n",
       "min         1.000000       1.000000       1.000000         88101.0   \n",
       "25%        12.000000      21.000000       6.000000         88101.0   \n",
       "50%        24.000000      57.000000      19.000000         88101.0   \n",
       "75%        40.000000      99.000000    1001.000000         88101.0   \n",
       "max        78.000000     810.000000    9997.000000         88101.0   \n",
       "\n",
       "                 POC       Latitude      Longitude  Observation Count  \\\n",
       "count  230028.000000  230028.000000  230028.000000      230028.000000   \n",
       "mean        1.858722      38.567237     -96.375154           5.911054   \n",
       "std         1.014308       6.455165      20.827498           9.313001   \n",
       "min         1.000000      17.712474    -158.088613           1.000000   \n",
       "25%         1.000000      35.356615    -112.118210           1.000000   \n",
       "50%         1.000000      39.551300     -87.913504           1.000000   \n",
       "75%         3.000000      41.707570     -80.580717           1.000000   \n",
       "max         9.000000      64.845690     -64.784868          24.000000   \n",
       "\n",
       "       Observation Percent  Arithmetic Mean  1st Max Value   1st Max Hour  \\\n",
       "count        230028.000000    230028.000000  230028.000000  230028.000000   \n",
       "mean             99.943316        10.020274      12.239993       2.570239   \n",
       "std              12.734653         6.677099      11.019930       5.982236   \n",
       "min               4.000000        -5.000000      -4.300000       0.000000   \n",
       "25%             100.000000         5.375000       6.000000       0.000000   \n",
       "50%             100.000000         8.500000       9.700000       0.000000   \n",
       "75%             100.000000        13.100000      15.500000       0.000000   \n",
       "max             400.000000       195.000000     886.500000      23.000000   \n",
       "\n",
       "                 AQI    Method Code  \n",
       "count  179303.000000  230028.000000  \n",
       "mean       45.534603     147.721843  \n",
       "std        19.544733      23.996032  \n",
       "min         0.000000     116.000000  \n",
       "25%        31.000000     118.000000  \n",
       "50%        47.000000     145.000000  \n",
       "75%        58.000000     170.000000  \n",
       "max       270.000000     236.000000  "
      ]
     },
     "execution_count": 2,
     "metadata": {},
     "output_type": "execute_result"
    }
   ],
   "source": [
    "# federally-regulated sensors\n",
    "PM2010_88101 = pd.read_csv('PM2.5/daily_88101_2010.zip')\n",
    "PM2010_88101.describe()"
   ]
  },
  {
   "cell_type": "code",
   "execution_count": 6,
   "id": "1276683b-4226-4ee5-9c78-ae583d25b2f1",
   "metadata": {
    "scrolled": true
   },
   "outputs": [
    {
     "name": "stderr",
     "output_type": "stream",
     "text": [
      "/tmp/ipykernel_54709/2014225991.py:2: DtypeWarning: Columns (13) have mixed types. Specify dtype option on import or set low_memory=False.\n",
      "  PM2010_88502 = pd.read_csv('PM2.5/daily_88502_2010.zip')\n"
     ]
    },
    {
     "data": {
      "text/html": [
       "<div>\n",
       "<style scoped>\n",
       "    .dataframe tbody tr th:only-of-type {\n",
       "        vertical-align: middle;\n",
       "    }\n",
       "\n",
       "    .dataframe tbody tr th {\n",
       "        vertical-align: top;\n",
       "    }\n",
       "\n",
       "    .dataframe thead th {\n",
       "        text-align: right;\n",
       "    }\n",
       "</style>\n",
       "<table border=\"1\" class=\"dataframe\">\n",
       "  <thead>\n",
       "    <tr style=\"text-align: right;\">\n",
       "      <th></th>\n",
       "      <th>State Code</th>\n",
       "      <th>County Code</th>\n",
       "      <th>Site Num</th>\n",
       "      <th>Parameter Code</th>\n",
       "      <th>POC</th>\n",
       "      <th>Latitude</th>\n",
       "      <th>Longitude</th>\n",
       "      <th>Pollutant Standard</th>\n",
       "      <th>Observation Count</th>\n",
       "      <th>Observation Percent</th>\n",
       "      <th>Arithmetic Mean</th>\n",
       "      <th>1st Max Value</th>\n",
       "      <th>1st Max Hour</th>\n",
       "      <th>AQI</th>\n",
       "      <th>Method Code</th>\n",
       "    </tr>\n",
       "  </thead>\n",
       "  <tbody>\n",
       "    <tr>\n",
       "      <th>count</th>\n",
       "      <td>358318.000000</td>\n",
       "      <td>358318.000000</td>\n",
       "      <td>358318.000000</td>\n",
       "      <td>358318.0</td>\n",
       "      <td>358318.000000</td>\n",
       "      <td>358318.000000</td>\n",
       "      <td>358318.000000</td>\n",
       "      <td>0.0</td>\n",
       "      <td>358318.000000</td>\n",
       "      <td>358318.000000</td>\n",
       "      <td>358318.000000</td>\n",
       "      <td>358318.000000</td>\n",
       "      <td>358318.000000</td>\n",
       "      <td>195264.000000</td>\n",
       "      <td>358318.000000</td>\n",
       "    </tr>\n",
       "    <tr>\n",
       "      <th>mean</th>\n",
       "      <td>30.898409</td>\n",
       "      <td>76.210617</td>\n",
       "      <td>822.854972</td>\n",
       "      <td>88502.0</td>\n",
       "      <td>2.994907</td>\n",
       "      <td>38.536041</td>\n",
       "      <td>-97.792728</td>\n",
       "      <td>NaN</td>\n",
       "      <td>11.278111</td>\n",
       "      <td>99.224122</td>\n",
       "      <td>9.035660</td>\n",
       "      <td>13.082529</td>\n",
       "      <td>15.809669</td>\n",
       "      <td>41.235799</td>\n",
       "      <td>713.797744</td>\n",
       "    </tr>\n",
       "    <tr>\n",
       "      <th>std</th>\n",
       "      <td>15.652524</td>\n",
       "      <td>79.793182</td>\n",
       "      <td>1894.886011</td>\n",
       "      <td>0.0</td>\n",
       "      <td>0.868182</td>\n",
       "      <td>6.293628</td>\n",
       "      <td>17.779379</td>\n",
       "      <td>NaN</td>\n",
       "      <td>11.321170</td>\n",
       "      <td>5.422669</td>\n",
       "      <td>6.229058</td>\n",
       "      <td>11.935844</td>\n",
       "      <td>8.941324</td>\n",
       "      <td>20.314123</td>\n",
       "      <td>98.360287</td>\n",
       "    </tr>\n",
       "    <tr>\n",
       "      <th>min</th>\n",
       "      <td>1.000000</td>\n",
       "      <td>1.000000</td>\n",
       "      <td>1.000000</td>\n",
       "      <td>88502.0</td>\n",
       "      <td>1.000000</td>\n",
       "      <td>18.334399</td>\n",
       "      <td>-160.508331</td>\n",
       "      <td>NaN</td>\n",
       "      <td>1.000000</td>\n",
       "      <td>4.000000</td>\n",
       "      <td>-7.000000</td>\n",
       "      <td>-7.000000</td>\n",
       "      <td>0.000000</td>\n",
       "      <td>0.000000</td>\n",
       "      <td>118.000000</td>\n",
       "    </tr>\n",
       "    <tr>\n",
       "      <th>25%</th>\n",
       "      <td>17.000000</td>\n",
       "      <td>29.000000</td>\n",
       "      <td>7.000000</td>\n",
       "      <td>88502.0</td>\n",
       "      <td>3.000000</td>\n",
       "      <td>33.676490</td>\n",
       "      <td>-117.330980</td>\n",
       "      <td>NaN</td>\n",
       "      <td>1.000000</td>\n",
       "      <td>100.000000</td>\n",
       "      <td>4.682609</td>\n",
       "      <td>6.000000</td>\n",
       "      <td>7.000000</td>\n",
       "      <td>25.000000</td>\n",
       "      <td>702.000000</td>\n",
       "    </tr>\n",
       "    <tr>\n",
       "      <th>50%</th>\n",
       "      <td>35.000000</td>\n",
       "      <td>57.000000</td>\n",
       "      <td>22.000000</td>\n",
       "      <td>88502.0</td>\n",
       "      <td>3.000000</td>\n",
       "      <td>39.154000</td>\n",
       "      <td>-94.167468</td>\n",
       "      <td>NaN</td>\n",
       "      <td>1.000000</td>\n",
       "      <td>100.000000</td>\n",
       "      <td>7.700000</td>\n",
       "      <td>10.300000</td>\n",
       "      <td>22.000000</td>\n",
       "      <td>42.000000</td>\n",
       "      <td>715.000000</td>\n",
       "    </tr>\n",
       "    <tr>\n",
       "      <th>75%</th>\n",
       "      <td>42.000000</td>\n",
       "      <td>101.000000</td>\n",
       "      <td>1002.000000</td>\n",
       "      <td>88502.0</td>\n",
       "      <td>3.000000</td>\n",
       "      <td>43.123704</td>\n",
       "      <td>-82.619167</td>\n",
       "      <td>NaN</td>\n",
       "      <td>24.000000</td>\n",
       "      <td>100.000000</td>\n",
       "      <td>11.900000</td>\n",
       "      <td>17.000000</td>\n",
       "      <td>23.000000</td>\n",
       "      <td>56.000000</td>\n",
       "      <td>760.000000</td>\n",
       "    </tr>\n",
       "    <tr>\n",
       "      <th>max</th>\n",
       "      <td>78.000000</td>\n",
       "      <td>510.000000</td>\n",
       "      <td>9997.000000</td>\n",
       "      <td>88502.0</td>\n",
       "      <td>12.000000</td>\n",
       "      <td>66.930930</td>\n",
       "      <td>-64.795972</td>\n",
       "      <td>NaN</td>\n",
       "      <td>24.000000</td>\n",
       "      <td>100.000000</td>\n",
       "      <td>114.087500</td>\n",
       "      <td>997.000000</td>\n",
       "      <td>23.000000</td>\n",
       "      <td>192.000000</td>\n",
       "      <td>810.000000</td>\n",
       "    </tr>\n",
       "  </tbody>\n",
       "</table>\n",
       "</div>"
      ],
      "text/plain": [
       "          State Code    County Code       Site Num  Parameter Code  \\\n",
       "count  358318.000000  358318.000000  358318.000000        358318.0   \n",
       "mean       30.898409      76.210617     822.854972         88502.0   \n",
       "std        15.652524      79.793182    1894.886011             0.0   \n",
       "min         1.000000       1.000000       1.000000         88502.0   \n",
       "25%        17.000000      29.000000       7.000000         88502.0   \n",
       "50%        35.000000      57.000000      22.000000         88502.0   \n",
       "75%        42.000000     101.000000    1002.000000         88502.0   \n",
       "max        78.000000     510.000000    9997.000000         88502.0   \n",
       "\n",
       "                 POC       Latitude      Longitude  Pollutant Standard  \\\n",
       "count  358318.000000  358318.000000  358318.000000                 0.0   \n",
       "mean        2.994907      38.536041     -97.792728                 NaN   \n",
       "std         0.868182       6.293628      17.779379                 NaN   \n",
       "min         1.000000      18.334399    -160.508331                 NaN   \n",
       "25%         3.000000      33.676490    -117.330980                 NaN   \n",
       "50%         3.000000      39.154000     -94.167468                 NaN   \n",
       "75%         3.000000      43.123704     -82.619167                 NaN   \n",
       "max        12.000000      66.930930     -64.795972                 NaN   \n",
       "\n",
       "       Observation Count  Observation Percent  Arithmetic Mean  1st Max Value  \\\n",
       "count      358318.000000        358318.000000    358318.000000  358318.000000   \n",
       "mean           11.278111            99.224122         9.035660      13.082529   \n",
       "std            11.321170             5.422669         6.229058      11.935844   \n",
       "min             1.000000             4.000000        -7.000000      -7.000000   \n",
       "25%             1.000000           100.000000         4.682609       6.000000   \n",
       "50%             1.000000           100.000000         7.700000      10.300000   \n",
       "75%            24.000000           100.000000        11.900000      17.000000   \n",
       "max            24.000000           100.000000       114.087500     997.000000   \n",
       "\n",
       "        1st Max Hour            AQI    Method Code  \n",
       "count  358318.000000  195264.000000  358318.000000  \n",
       "mean       15.809669      41.235799     713.797744  \n",
       "std         8.941324      20.314123      98.360287  \n",
       "min         0.000000       0.000000     118.000000  \n",
       "25%         7.000000      25.000000     702.000000  \n",
       "50%        22.000000      42.000000     715.000000  \n",
       "75%        23.000000      56.000000     760.000000  \n",
       "max        23.000000     192.000000     810.000000  "
      ]
     },
     "execution_count": 6,
     "metadata": {},
     "output_type": "execute_result"
    }
   ],
   "source": [
    "# non-federally regulated sensors\n",
    "PM2010_88502 = pd.read_csv('PM2.5/daily_88502_2010.zip')\n",
    "PM2010_88502.describe()"
   ]
  },
  {
   "cell_type": "markdown",
   "id": "f8e83fcd-fc9f-4fd1-900a-1b2a8f295acd",
   "metadata": {},
   "source": [
    "### Find weather station wind measurements"
   ]
  },
  {
   "cell_type": "code",
   "execution_count": 21,
   "id": "08d5354d-e8bc-4e1f-9a13-f519daf5f97e",
   "metadata": {},
   "outputs": [],
   "source": [
    "# download bulk meteostat data\n",
    "if not os.path.exists(\"meteostat/bulk_data_full.json.gz\"):\n",
    "    url = \"https://bulk.meteostat.net/v2/stations/full.json.gz\"\n",
    "    response = requests.get(url, stream=True)\n",
    "    if not os.path.exists(\"meteostat\"):\n",
    "        os.mkdir(\"meteostat\")\n",
    "        with open(\"meteostat/bulk_data_full.json.gz\", mode=\"wb\") as file:\n",
    "            for chunk in response.iter_content(chunk_size=10 * 1024):\n",
    "                file.write(chunk)\n"
   ]
  },
  {
   "cell_type": "code",
   "execution_count": 22,
   "id": "0f42a29c-83bb-42c2-9230-35a26eb5cc86",
   "metadata": {},
   "outputs": [
    {
     "data": {
      "text/plain": [
       "2935"
      ]
     },
     "metadata": {},
     "output_type": "display_data"
    },
    {
     "data": {
      "text/plain": [
       "{'id': '04AEH',\n",
       " 'name': {'en': 'Norwich'},\n",
       " 'country': 'US',\n",
       " 'region': 'NY',\n",
       " 'identifiers': {'national': None, 'wmo': None, 'icao': 'KOIC'},\n",
       " 'location': {'latitude': 42.5665, 'longitude': -75.5242, 'elevation': 312},\n",
       " 'timezone': 'America/New_York',\n",
       " 'inventory': {'model': {'start': '2022-04-24', 'end': '2025-04-23'},\n",
       "  'hourly': {'start': '2022-04-23', 'end': '2025-04-14'},\n",
       "  'daily': {'start': '2022-04-23', 'end': '2022-04-26'},\n",
       "  'monthly': {'start': None, 'end': None},\n",
       "  'normals': {'start': None, 'end': None}}}"
      ]
     },
     "metadata": {},
     "output_type": "display_data"
    }
   ],
   "source": [
    "import json\n",
    "import gzip\n",
    "\n",
    "with gzip.open('meteostat/bulk_data_full.json.gz', 'r') as fin:\n",
    "    full = json.loads(fin.read().decode('utf-8'))\n",
    "usStations = [x for x in full if x[\"country\"] == \"US\"]\n",
    "display(len(usStations))\n",
    "display(usStations[0])"
   ]
  },
  {
   "cell_type": "code",
   "execution_count": 23,
   "id": "03d73e54-e530-4032-a1f1-66fe773dec5f",
   "metadata": {},
   "outputs": [
    {
     "data": {
      "text/plain": [
       "2303"
      ]
     },
     "execution_count": 23,
     "metadata": {},
     "output_type": "execute_result"
    }
   ],
   "source": [
    "from datetime import datetime\n",
    "\n",
    "# filter stations to only stations that have at least some data between 2010 and 2021\n",
    "start_date = datetime.strptime(\"2010-01-01\", \"%Y-%m-%d\")\n",
    "end_date = datetime.strptime(\"2021-12-31\", \"%Y-%m-%d\")\n",
    "filteredStations = [station for station in usStations if \\\n",
    " (station['inventory']['daily']['start'] is not None and \\\n",
    "  datetime.strptime(station['inventory']['daily']['start'], \"%Y-%m-%d\") < end_date \\\n",
    "  and datetime.strptime(station['inventory']['daily']['end'], \"%Y-%m-%d\") > start_date)]\n",
    "len(filteredStations)"
   ]
  },
  {
   "cell_type": "code",
   "execution_count": 24,
   "id": "54aa4b1f-8020-4e22-a89a-de7e27061038",
   "metadata": {},
   "outputs": [
    {
     "data": {
      "text/plain": [
       "['69007', '69015', '69019']"
      ]
     },
     "execution_count": 24,
     "metadata": {},
     "output_type": "execute_result"
    }
   ],
   "source": [
    "ids = [x['id'] for x in filteredStations]\n",
    "ids[0:3]"
   ]
  },
  {
   "cell_type": "code",
   "execution_count": 25,
   "id": "d4c69081-bb7e-4717-b067-9dc889efec63",
   "metadata": {},
   "outputs": [
    {
     "data": {
      "text/plain": [
       "{'70179', '70218', '70275', '72378', '72608', '72652', '72789', 'KGVW0'}"
      ]
     },
     "execution_count": 25,
     "metadata": {},
     "output_type": "execute_result"
    }
   ],
   "source": [
    "if not os.path.exists(\"meteostat/daily_wind_station_data_2010-2021.csv.gz\"):\n",
    "    import warnings\n",
    "    warnings.simplefilter(action='ignore', category=FutureWarning)\n",
    "    \n",
    "    # Import Meteostat library and dependencies\n",
    "    from datetime import datetime\n",
    "    from meteostat import Daily\n",
    "    \n",
    "    # Set time period\n",
    "    start = datetime(2010, 1, 1)\n",
    "    end = datetime(2021, 12, 31)\n",
    "    \n",
    "    # Get daily data\n",
    "    stationData = Daily(ids, start, end)\n",
    "    stationData = data.fetch()\n",
    "\n",
    "    # remove rows where no wind was collected\n",
    "    stationData[~stationData['wdir'].isna()].to_csv(\"meteostat/daily_wind_station_data_2010-2021.csv.gz\")\n",
    "\n",
    "# if the file already exists, just read from the csv. this also changes the index in the original table\n",
    "# dtype needs to be specified otherwise the first numeric entries are numbers and the rest are strings. they should all be strings\n",
    "stationData = pd.read_csv(\"meteostat/daily_wind_station_data_2010-2021.csv.gz\", dtype={'station': 'string'})\n",
    "\n",
    "# these stations did not have any wind data (or at least i checked the first one)\n",
    "set(ids) - set(stationData['station'])"
   ]
  },
  {
   "cell_type": "code",
   "execution_count": 26,
   "id": "4a83b12e-3d2b-4f8b-8030-e46aa0172929",
   "metadata": {},
   "outputs": [],
   "source": [
    "stationLocs = pd.DataFrame([(x['id'], x['location']['latitude'], x['location']['longitude']) for x in filteredStations], columns = ('station', 'latitude', 'longitude'))"
   ]
  },
  {
   "cell_type": "code",
   "execution_count": 27,
   "id": "6a79c7b5-78ff-481d-baf8-12ed34f3f8a7",
   "metadata": {},
   "outputs": [
    {
     "data": {
      "text/html": [
       "<div>\n",
       "<style scoped>\n",
       "    .dataframe tbody tr th:only-of-type {\n",
       "        vertical-align: middle;\n",
       "    }\n",
       "\n",
       "    .dataframe tbody tr th {\n",
       "        vertical-align: top;\n",
       "    }\n",
       "\n",
       "    .dataframe thead th {\n",
       "        text-align: right;\n",
       "    }\n",
       "</style>\n",
       "<table border=\"1\" class=\"dataframe\">\n",
       "  <thead>\n",
       "    <tr style=\"text-align: right;\">\n",
       "      <th></th>\n",
       "      <th>station</th>\n",
       "      <th>latitude</th>\n",
       "      <th>longitude</th>\n",
       "    </tr>\n",
       "  </thead>\n",
       "  <tbody>\n",
       "    <tr>\n",
       "      <th>0</th>\n",
       "      <td>69007</td>\n",
       "      <td>36.6815</td>\n",
       "      <td>-121.7617</td>\n",
       "    </tr>\n",
       "    <tr>\n",
       "      <th>1</th>\n",
       "      <td>69015</td>\n",
       "      <td>34.2962</td>\n",
       "      <td>-116.1622</td>\n",
       "    </tr>\n",
       "    <tr>\n",
       "      <th>2</th>\n",
       "      <td>69019</td>\n",
       "      <td>32.4198</td>\n",
       "      <td>-99.8554</td>\n",
       "    </tr>\n",
       "  </tbody>\n",
       "</table>\n",
       "</div>"
      ],
      "text/plain": [
       "  station  latitude  longitude\n",
       "0   69007   36.6815  -121.7617\n",
       "1   69015   34.2962  -116.1622\n",
       "2   69019   32.4198   -99.8554"
      ]
     },
     "execution_count": 27,
     "metadata": {},
     "output_type": "execute_result"
    }
   ],
   "source": [
    "stationLocs.iloc[0:3]"
   ]
  },
  {
   "cell_type": "code",
   "execution_count": 28,
   "id": "bac6751b-d466-4aff-8802-79d5a9e0e4c2",
   "metadata": {
    "scrolled": true
   },
   "outputs": [
    {
     "data": {
      "text/html": [
       "<div>\n",
       "<style scoped>\n",
       "    .dataframe tbody tr th:only-of-type {\n",
       "        vertical-align: middle;\n",
       "    }\n",
       "\n",
       "    .dataframe tbody tr th {\n",
       "        vertical-align: top;\n",
       "    }\n",
       "\n",
       "    .dataframe thead th {\n",
       "        text-align: right;\n",
       "    }\n",
       "</style>\n",
       "<table border=\"1\" class=\"dataframe\">\n",
       "  <thead>\n",
       "    <tr style=\"text-align: right;\">\n",
       "      <th></th>\n",
       "      <th>station</th>\n",
       "      <th>time</th>\n",
       "      <th>tavg</th>\n",
       "      <th>tmin</th>\n",
       "      <th>tmax</th>\n",
       "      <th>prcp</th>\n",
       "      <th>snow</th>\n",
       "      <th>wdir</th>\n",
       "      <th>wspd</th>\n",
       "      <th>wpgt</th>\n",
       "      <th>pres</th>\n",
       "      <th>tsun</th>\n",
       "      <th>latitude</th>\n",
       "      <th>longitude</th>\n",
       "    </tr>\n",
       "  </thead>\n",
       "  <tbody>\n",
       "    <tr>\n",
       "      <th>0</th>\n",
       "      <td>69007</td>\n",
       "      <td>2021-01-02</td>\n",
       "      <td>8.6</td>\n",
       "      <td>5.0</td>\n",
       "      <td>12.0</td>\n",
       "      <td>2.2</td>\n",
       "      <td>NaN</td>\n",
       "      <td>43.0</td>\n",
       "      <td>5.9</td>\n",
       "      <td>NaN</td>\n",
       "      <td>1024.2</td>\n",
       "      <td>NaN</td>\n",
       "      <td>36.6815</td>\n",
       "      <td>-121.7617</td>\n",
       "    </tr>\n",
       "    <tr>\n",
       "      <th>1</th>\n",
       "      <td>69007</td>\n",
       "      <td>2021-01-03</td>\n",
       "      <td>10.5</td>\n",
       "      <td>9.0</td>\n",
       "      <td>15.0</td>\n",
       "      <td>1.0</td>\n",
       "      <td>NaN</td>\n",
       "      <td>74.0</td>\n",
       "      <td>5.6</td>\n",
       "      <td>NaN</td>\n",
       "      <td>1024.0</td>\n",
       "      <td>NaN</td>\n",
       "      <td>36.6815</td>\n",
       "      <td>-121.7617</td>\n",
       "    </tr>\n",
       "    <tr>\n",
       "      <th>2</th>\n",
       "      <td>69007</td>\n",
       "      <td>2021-01-04</td>\n",
       "      <td>9.7</td>\n",
       "      <td>5.0</td>\n",
       "      <td>15.0</td>\n",
       "      <td>2.2</td>\n",
       "      <td>NaN</td>\n",
       "      <td>173.0</td>\n",
       "      <td>10.2</td>\n",
       "      <td>NaN</td>\n",
       "      <td>1022.2</td>\n",
       "      <td>NaN</td>\n",
       "      <td>36.6815</td>\n",
       "      <td>-121.7617</td>\n",
       "    </tr>\n",
       "  </tbody>\n",
       "</table>\n",
       "</div>"
      ],
      "text/plain": [
       "  station        time  tavg  tmin  tmax  prcp  snow   wdir  wspd  wpgt  \\\n",
       "0   69007  2021-01-02   8.6   5.0  12.0   2.2   NaN   43.0   5.9   NaN   \n",
       "1   69007  2021-01-03  10.5   9.0  15.0   1.0   NaN   74.0   5.6   NaN   \n",
       "2   69007  2021-01-04   9.7   5.0  15.0   2.2   NaN  173.0  10.2   NaN   \n",
       "\n",
       "     pres  tsun  latitude  longitude  \n",
       "0  1024.2   NaN   36.6815  -121.7617  \n",
       "1  1024.0   NaN   36.6815  -121.7617  \n",
       "2  1022.2   NaN   36.6815  -121.7617  "
      ]
     },
     "metadata": {},
     "output_type": "display_data"
    },
    {
     "data": {
      "text/plain": [
       "False"
      ]
     },
     "metadata": {},
     "output_type": "display_data"
    },
    {
     "data": {
      "text/plain": [
       "False"
      ]
     },
     "metadata": {},
     "output_type": "display_data"
    }
   ],
   "source": [
    "# merge the lat/long locations back into the station data\n",
    "stationMerged = stationData.merge(stationLocs, on='station', how='left')\n",
    "display(stationMerged.iloc[0:3])\n",
    "# check to make sure all stations got the lat/long\n",
    "display(any(stationMerged['latitude'].isna()))\n",
    "display(any(stationMerged['longitude'].isna()))"
   ]
  }
 ],
 "metadata": {
  "kernelspec": {
   "display_name": "Python 3 (ipykernel)",
   "language": "python",
   "name": "python3"
  },
  "language_info": {
   "codemirror_mode": {
    "name": "ipython",
    "version": 3
   },
   "file_extension": ".py",
   "mimetype": "text/x-python",
   "name": "python",
   "nbconvert_exporter": "python",
   "pygments_lexer": "ipython3",
   "version": "3.12.4"
  }
 },
 "nbformat": 4,
 "nbformat_minor": 5
}
